{
 "cells": [
  {
   "cell_type": "code",
   "execution_count": 2,
   "id": "3880c06f",
   "metadata": {},
   "outputs": [],
   "source": [
    "import datacube\n",
    "import geopandas as gpd\n",
    "import pandas as pd\n",
    "import matplotlib.pyplot as plt\n",
    "import os\n",
    "import seaborn as sns\n",
    "from dea_tools.plotting import rgb\n",
    "from deafrica_tools.app.crophealth import load_crophealth_data, run_crophealth_app\n",
    "os.environ.update(env)\n",
    "\n",
    "dc = datacube.Datacube(app = 'my_app')"
   ]
  },
  {
   "cell_type": "code",
   "execution_count": 3,
   "id": "b9940b9b",
   "metadata": {},
   "outputs": [],
   "source": [
    "lat =  53.9\n",
    "lon = 12.9\n",
    "buffer = 0.05\n",
    "date = '2020-01-31'"
   ]
  },
  {
   "cell_type": "code",
   "execution_count": 4,
   "id": "5b807e84",
   "metadata": {},
   "outputs": [
    {
     "name": "stdout",
     "output_type": "stream",
     "text": [
      "Using pixel quality parameters for Sentinel 2\n",
      "Finding datasets\n",
      "    s2_l2a\n",
      "Counting good quality pixels for each time step\n",
      "Filtering to 59 out of 186 time steps with at least 50.0% good quality pixels\n",
      "Applying pixel quality/cloud mask\n",
      "Loading 59 time steps\n"
     ]
    }
   ],
   "source": [
    "dataset = load_crophealth_data(lat, lon, buffer, date)\n"
   ]
  },
  {
   "cell_type": "code",
   "execution_count": 4,
   "id": "b27ac2e6",
   "metadata": {},
   "outputs": [
    {
     "data": {
      "application/vnd.jupyter.widget-view+json": {
       "model_id": "0f140a97fa554fd4bf9de5fdf8ac3360",
       "version_major": 2,
       "version_minor": 0
      },
      "text/plain": [
       "VBox(children=(Output(layout=Layout(border='1px solid black')), HBox(children=(Map(center=[53.900000000000006,…"
      ]
     },
     "metadata": {},
     "output_type": "display_data"
    }
   ],
   "source": [
    "run_crophealth_app(dataset, lat, lon, buffer)"
   ]
  }
 ],
 "metadata": {
  "kernelspec": {
   "display_name": "Python 3 (ipykernel)",
   "language": "python",
   "name": "python3"
  },
  "language_info": {
   "codemirror_mode": {
    "name": "ipython",
    "version": 3
   },
   "file_extension": ".py",
   "mimetype": "text/x-python",
   "name": "python",
   "nbconvert_exporter": "python",
   "pygments_lexer": "ipython3",
   "version": "3.9.7"
  }
 },
 "nbformat": 4,
 "nbformat_minor": 5
}
